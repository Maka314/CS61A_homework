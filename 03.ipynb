{
 "cells": [
  {
   "cell_type": "code",
   "execution_count": 4,
   "id": "298d16e5",
   "metadata": {},
   "outputs": [
    {
     "ename": "AttributeError",
     "evalue": "module 'drawsvg' has no attribute 'animate_jupyter'",
     "output_type": "error",
     "traceback": [
      "\u001b[1;31m---------------------------------------------------------------------------\u001b[0m",
      "\u001b[1;31mAttributeError\u001b[0m                            Traceback (most recent call last)",
      "Cell \u001b[1;32mIn[4], line 17\u001b[0m\n\u001b[0;32m     14\u001b[0m R \u001b[39m=\u001b[39m \u001b[39m100\u001b[39m \u001b[39m# ending radius\u001b[39;00m\n\u001b[0;32m     15\u001b[0m sign \u001b[39m=\u001b[39m \u001b[39m1\u001b[39m \u001b[39m# expansion (1) or contraction (-1)\u001b[39;00m\n\u001b[1;32m---> 17\u001b[0m \u001b[39mwith\u001b[39;00m draw\u001b[39m.\u001b[39;49manimate_jupyter(draw_frame, delay\u001b[39m=\u001b[39m\u001b[39m0.01\u001b[39m) \u001b[39mas\u001b[39;00m anim:\n\u001b[0;32m     18\u001b[0m     \u001b[39mwhile\u001b[39;00m c \u001b[39m<\u001b[39m \u001b[39m4\u001b[39m:\n\u001b[0;32m     19\u001b[0m         anim\u001b[39m.\u001b[39mdraw_frame(r)\n",
      "\u001b[1;31mAttributeError\u001b[0m: module 'drawsvg' has no attribute 'animate_jupyter'"
     ]
    }
   ],
   "source": [
    "# Draw a repeatedly expanding/contracting circle\n",
    "# pip3 install drawsvg\n",
    "import drawsvg as draw\n",
    "\n",
    "# Draw a frame of the animation\n",
    "def draw_frame(r):\n",
    "    d = draw.Drawing(250, 250, origin='center')\n",
    "    d.append(draw.Circle(0, 0, r, fill='blue'))\n",
    "    return d\n",
    "               \n",
    "# run animation\n",
    "c = 0 # loop counter\n",
    "r = 0 # starting radius\n",
    "R = 100 # ending radius\n",
    "sign = 1 # expansion (1) or contraction (-1)\n",
    "\n",
    "with draw.animate_jupyter(draw_frame, delay=0.01) as anim:\n",
    "    while c < 4:\n",
    "        anim.draw_frame(r)\n",
    "        if sign == 1:\n",
    "            r = r + 1 # expand\n",
    "        else:\n",
    "            r = r - 1 # contract\n",
    "            \n",
    "        if r > R or r < 0:\n",
    "            sign = -1 * sign # flip sign of expansion/contraction\n",
    "            c = c + 1 # loop counter"
   ]
  },
  {
   "cell_type": "code",
   "execution_count": 2,
   "id": "e3785285",
   "metadata": {},
   "outputs": [
    {
     "name": "stdout",
     "output_type": "stream",
     "text": [
      "Requirement already satisfied: drawSvg in c:\\users\\trave\\onedrive\\documents\\code_base\\local_code\\openai_learn\\.venv\\lib\\site-packages (2.1.1)\n",
      "Note: you may need to restart the kernel to use updated packages.\n"
     ]
    }
   ],
   "source": [
    "pip install drawSvg"
   ]
  },
  {
   "cell_type": "code",
   "execution_count": 3,
   "id": "ebcc10ff",
   "metadata": {},
   "outputs": [],
   "source": [
    "import drawsvg"
   ]
  },
  {
   "cell_type": "code",
   "execution_count": null,
   "id": "c4e215bb",
   "metadata": {},
   "outputs": [],
   "source": []
  }
 ],
 "metadata": {
  "kernelspec": {
   "display_name": "Python 3 (ipykernel)",
   "language": "python",
   "name": "python3"
  },
  "language_info": {
   "codemirror_mode": {
    "name": "ipython",
    "version": 3
   },
   "file_extension": ".py",
   "mimetype": "text/x-python",
   "name": "python",
   "nbconvert_exporter": "python",
   "pygments_lexer": "ipython3",
   "version": "3.10.10"
  }
 },
 "nbformat": 4,
 "nbformat_minor": 5
}
